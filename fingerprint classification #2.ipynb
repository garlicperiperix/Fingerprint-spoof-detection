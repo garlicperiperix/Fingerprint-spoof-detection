{
 "cells": [
  {
   "cell_type": "code",
   "execution_count": 1,
   "id": "784b604e",
   "metadata": {},
   "outputs": [],
   "source": [
    "import os\n",
    "import numpy as np\n",
    "import pandas as pd\n",
    "import matplotlib.pyplot as plt\n",
    "from skimage.io import imread, imshow\n",
    "from sklearn import svm\n",
    "import sklearn.model_selection as model_selection\n",
    "from PIL import Image\n",
    "\n",
    "from sklearn.metrics import precision_score,confusion_matrix"
   ]
  },
  {
   "cell_type": "code",
   "execution_count": 2,
   "id": "4fbfd859",
   "metadata": {},
   "outputs": [],
   "source": [
    "def load_images_data(folder):\n",
    "    images = []\n",
    "    for filename in os.listdir(folder):\n",
    "        im = folder+\"/\"+filename\n",
    "        fin = Image.open(im).convert('L')\n",
    "        fin = fin.resize((25,30))\n",
    "        fin.save(im)\n",
    "        img = imread(im,as_gray=True)\n",
    "        im_1d = np.reshape(img, (img.shape[0]*img.shape[1]))\n",
    "        images.append(im_1d)\n",
    "    return images\n"
   ]
  },
  {
   "cell_type": "code",
   "execution_count": 3,
   "id": "97e7a1f0",
   "metadata": {},
   "outputs": [],
   "source": [
    "test_live = load_images_data('C:/Users/vatsa/Downloads/Assignment_data/test_live/')\n",
    "test_spoof = load_images_data('C:/Users/vatsa/Downloads/Assignment_data/test_spoof')\n",
    "train_live = load_images_data('C:/Users/vatsa/Downloads/Assignment_data/train_live')\n",
    "train_spoof = load_images_data('C:/Users/vatsa/Downloads/Assignment_data/train_spoof')"
   ]
  },
  {
   "cell_type": "code",
   "execution_count": null,
   "id": "21b01086",
   "metadata": {},
   "outputs": [],
   "source": []
  },
  {
   "cell_type": "code",
   "execution_count": null,
   "id": "c8c331b0",
   "metadata": {},
   "outputs": [],
   "source": []
  },
  {
   "cell_type": "code",
   "execution_count": 4,
   "id": "3d6626eb",
   "metadata": {},
   "outputs": [],
   "source": [
    "X_train = pd.DataFrame(train_live)\n",
    "X_train['target'] = 0\n",
    "Y_train=pd.DataFrame(train_spoof)\n",
    "Y_train['target'] = 1\n",
    "X_test=pd.DataFrame(test_live)\n",
    "X_test['target'] = 0\n",
    "Y_test=pd.DataFrame(test_spoof)\n",
    "Y_test['target'] = 1"
   ]
  },
  {
   "cell_type": "code",
   "execution_count": null,
   "id": "7e1672e2",
   "metadata": {},
   "outputs": [],
   "source": []
  },
  {
   "cell_type": "code",
   "execution_count": null,
   "id": "8dd26d10",
   "metadata": {},
   "outputs": [],
   "source": []
  },
  {
   "cell_type": "code",
   "execution_count": 5,
   "id": "9d20e9c5",
   "metadata": {},
   "outputs": [],
   "source": [
    "train = pd.concat([X_train,Y_train])"
   ]
  },
  {
   "cell_type": "code",
   "execution_count": 6,
   "id": "657648a2",
   "metadata": {},
   "outputs": [],
   "source": [
    "test = pd.concat([X_test,Y_test])"
   ]
  },
  {
   "cell_type": "code",
   "execution_count": 7,
   "id": "6ea77213",
   "metadata": {},
   "outputs": [
    {
     "name": "stdout",
     "output_type": "stream",
     "text": [
      "      0   1   2   3    4    5    6    7    8    9  ...  741  742  743  744  \\\n",
      "182  86  89  92  97  100  102  103  105  106  107  ...  103  102  105  109   \n",
      "204  80  82  85  89   92   94   95   97   98   99  ...  140  145  148  152   \n",
      "200  80  82  85  89   93   94   95   96   98   99  ...  124  128  129  120   \n",
      "19   81  83  85  88   92   94   95   97   98   99  ...  127  122  113  115   \n",
      "156  81  83  84  87   91   94   96   98   99  100  ...  180  179  176  172   \n",
      "..   ..  ..  ..  ..  ...  ...  ...  ...  ...  ...  ...  ...  ...  ...  ...   \n",
      "127  81  84  85  87   91   95   96   98   99  100  ...  185  183  180  175   \n",
      "108  81  83  86  89   92   94   95   96   96   97  ...  174  172  172  170   \n",
      "160  75  78  81  83   84   87   88   89   89   87  ...  146  138  126  125   \n",
      "69   78  81  83  85   88   90   91   93   94   95  ...  173  171  168  163   \n",
      "111  80  83  86  89   92   95   96   97   97   97  ...  177  176  174  171   \n",
      "\n",
      "     745  746  747  748  749  target  \n",
      "182  148  162  157  144  139       1  \n",
      "204  158  138  128  129  131       1  \n",
      "200  138  138  138  136  130       1  \n",
      "19   115  108  110  122  132       0  \n",
      "156  167  159  150  139  129       0  \n",
      "..   ...  ...  ...  ...  ...     ...  \n",
      "127  165  156  146  134  125       0  \n",
      "108  164  157  148  136  125       1  \n",
      "160  120  121  128  130  124       0  \n",
      "69   157  149  141  131  125       0  \n",
      "111  166  159  150  139  128       1  \n",
      "\n",
      "[407 rows x 751 columns]\n"
     ]
    }
   ],
   "source": [
    "train = train.sample(frac=1)\n",
    "print(train)\n"
   ]
  },
  {
   "cell_type": "code",
   "execution_count": 8,
   "id": "4b2b7fb8",
   "metadata": {},
   "outputs": [
    {
     "name": "stdout",
     "output_type": "stream",
     "text": [
      "      0   1   2   3   4   5   6    7    8    9  ...  741  742  743  744  745  \\\n",
      "80   76  78  83  90  92  94  95   96   97   98  ...  139  161  168  162  158   \n",
      "115  73  74  75  76  79  82  82   82   81   81  ...  136  128  124  140  142   \n",
      "56   77  78  81  85  89  91  92   93   95   96  ...  177  174  170  163  157   \n",
      "16   79  81  84  87  90  92  93   95   97   98  ...  169  176  175  170  165   \n",
      "123  72  74  79  86  88  90  91   92   93   94  ...  146  134  123  126  138   \n",
      "..   ..  ..  ..  ..  ..  ..  ..  ...  ...  ...  ...  ...  ...  ...  ...  ...   \n",
      "29   75  77  82  89  91  93  94   95   96   97  ...  126  115  118  142  161   \n",
      "12   80  82  84  87  91  93  94   97   98   95  ...  168  177  178  173  168   \n",
      "75   74  75  76  78  80  85  87   88   88   88  ...  152  147  144  142  141   \n",
      "177  83  83  86  90  94  97  98  100  101  102  ...  170  173  176  178  172   \n",
      "8    73  75  77  80  83  86  88   90   91   92  ...  170  168  166  160  155   \n",
      "\n",
      "     746  747  748  749  target  \n",
      "80   152  146  137  128       1  \n",
      "115  117   92   77   72       0  \n",
      "56   152  144  133  124       0  \n",
      "16   157  148  136  127       0  \n",
      "123  147  143  131  122       1  \n",
      "..   ...  ...  ...  ...     ...  \n",
      "29   157  148  138  128       1  \n",
      "12   160  149  134  120       0  \n",
      "75   143  137  126  120       0  \n",
      "177  165  154  139  125       0  \n",
      "8    148  139  127  118       0  \n",
      "\n",
      "[400 rows x 751 columns]\n"
     ]
    }
   ],
   "source": [
    "test = test.sample(frac=1)\n",
    "print(test)"
   ]
  },
  {
   "cell_type": "code",
   "execution_count": null,
   "id": "8db72efa",
   "metadata": {},
   "outputs": [],
   "source": []
  },
  {
   "cell_type": "code",
   "execution_count": 12,
   "id": "173a26cb",
   "metadata": {},
   "outputs": [],
   "source": [
    "target = []\n",
    "for i in train.columns:\n",
    " target.append(i)"
   ]
  },
  {
   "cell_type": "code",
   "execution_count": 13,
   "id": "7c8c6869",
   "metadata": {},
   "outputs": [],
   "source": [
    "X_training_data = train.loc[:, target].values\n",
    "Y_training_data = train.loc[:, ['target']].values\n",
    "Y_training_data = np.ravel(Y_training_data)\n",
    "# Initializing testing data for SVM Classification\n",
    "X_testing_data = test.loc[:, target].values\n",
    "Y_testing_data = test.loc[:, ['target']].values\n",
    "Y_testing_data = np.ravel(Y_testing_data)"
   ]
  },
  {
   "cell_type": "code",
   "execution_count": null,
   "id": "e6686c77",
   "metadata": {},
   "outputs": [],
   "source": []
  },
  {
   "cell_type": "code",
   "execution_count": 14,
   "id": "f95ded21",
   "metadata": {},
   "outputs": [
    {
     "data": {
      "text/plain": [
       "array([0, 0, 0, 0, 1, 1, 0, 1, 1, 0, 0, 0, 1, 0, 0, 0, 0, 1, 0, 1, 1, 1,\n",
       "       0, 1, 1, 1, 1, 1, 0, 1, 1, 1, 0, 1, 1, 0, 0, 0, 1, 1, 0, 1, 1, 1,\n",
       "       0, 1, 1, 1, 0, 0, 1, 1, 1, 1, 1, 0, 1, 1, 1, 1, 1, 1, 1, 1, 1, 1,\n",
       "       1, 0, 1, 1, 0, 0, 1, 0, 0, 1, 1, 1, 1, 0, 0, 0, 0, 0, 0, 0, 0, 0,\n",
       "       0, 0, 1, 1, 0, 1, 0, 1, 1, 0, 1, 1, 0, 0, 1, 0, 0, 0, 1, 1, 1, 0,\n",
       "       0, 0, 1, 0, 0, 1, 0, 1, 0, 0, 1, 0, 1, 1, 0, 1, 0, 0, 0, 1, 0, 0,\n",
       "       0, 0, 1, 1, 1, 1, 1, 1, 0, 0, 1, 0, 0, 1, 0, 1, 1, 0, 1, 1, 1, 0,\n",
       "       1, 1, 1, 0, 0, 0, 0, 1, 1, 1, 0, 1, 0, 1, 0, 1, 0, 0, 1, 1, 1, 1,\n",
       "       0, 1, 1, 1, 1, 1, 1, 0, 1, 1, 1, 0, 0, 1, 1, 1, 0, 1, 1, 1, 0, 1,\n",
       "       0, 0, 1, 1, 1, 0, 1, 0, 1, 1, 1, 0, 1, 1, 0, 0, 1, 1, 1, 1, 0, 1,\n",
       "       0, 0, 1, 1, 0, 1, 1, 1, 1, 1, 1, 1, 0, 0, 0, 1, 1, 0, 1, 1, 1, 1,\n",
       "       1, 1, 1, 1, 0, 0, 1, 0, 1, 1, 1, 0, 1, 0, 0, 0, 1, 1, 1, 0, 1, 1,\n",
       "       0, 1, 1, 1, 1, 0, 0, 0, 1, 0, 0, 0, 1, 1, 1, 1, 0, 1, 1, 1, 1, 1,\n",
       "       0, 0, 0, 1, 0, 0, 1, 1, 1, 0, 1, 1, 1, 1, 1, 1, 0, 1, 1, 1, 0, 1,\n",
       "       0, 0, 1, 0, 0, 1, 0, 0, 0, 0, 1, 1, 0, 0, 0, 0, 0, 0, 1, 0, 1, 0,\n",
       "       0, 1, 0, 1, 0, 0, 0, 0, 1, 0, 1, 0, 0, 0, 1, 1, 1, 1, 0, 1, 0, 0,\n",
       "       1, 1, 1, 0, 0, 1, 1, 0, 0, 1, 1, 0, 0, 0, 0, 0, 0, 0, 1, 1, 1, 1,\n",
       "       1, 1, 0, 1, 1, 1, 1, 1, 1, 0, 1, 0, 1, 0, 0, 1, 1, 1, 1, 0, 1, 1,\n",
       "       1, 0, 0, 0], dtype=int64)"
      ]
     },
     "execution_count": 14,
     "metadata": {},
     "output_type": "execute_result"
    }
   ],
   "source": [
    "svm_lin_model = svm.SVC(kernel='linear', C=1).fit(X_training_data, Y_training_data)\n",
    "y_predict = svm_lin_model.predict(X_testing_data)\n",
    "y_predict"
   ]
  },
  {
   "cell_type": "code",
   "execution_count": 15,
   "id": "59f5fed1",
   "metadata": {},
   "outputs": [
    {
     "data": {
      "text/plain": [
       "0.8175"
      ]
     },
     "execution_count": 15,
     "metadata": {},
     "output_type": "execute_result"
    }
   ],
   "source": [
    "svm_lin_model.score(X_testing_data, Y_testing_data)"
   ]
  },
  {
   "cell_type": "code",
   "execution_count": 16,
   "id": "b614527e",
   "metadata": {},
   "outputs": [
    {
     "data": {
      "text/plain": [
       "0.7822222222222223"
      ]
     },
     "execution_count": 16,
     "metadata": {},
     "output_type": "execute_result"
    }
   ],
   "source": [
    "precision_score(Y_testing_data,y_predict)\n"
   ]
  },
  {
   "cell_type": "code",
   "execution_count": 17,
   "id": "337f96c2",
   "metadata": {},
   "outputs": [
    {
     "data": {
      "text/plain": [
       "array([[151,  49],\n",
       "       [ 24, 176]], dtype=int64)"
      ]
     },
     "execution_count": 17,
     "metadata": {},
     "output_type": "execute_result"
    }
   ],
   "source": [
    "confusion_matrix(Y_testing_data,y_predict)\n"
   ]
  },
  {
   "cell_type": "code",
   "execution_count": 18,
   "id": "0103405d",
   "metadata": {},
   "outputs": [
    {
     "data": {
      "image/png": "[encoded data removed]",
      "text/plain": [
       "<Figure size 432x288 with 1 Axes>"
      ]
     },
     "metadata": {
      "needs_background": "light"
     },
     "output_type": "display_data"
    }
   ],
   "source": [
    "plt.scatter(X_training_data[:,0], X_training_data[:,1])\n",
    "plt.title('Linear SVM data')\n",
    "plt.xlabel('X1')\n",
    "plt.ylabel('X2')\n",
    "plt.show()\n"
   ]
  },
  {
   "cell_type": "code",
   "execution_count": null,
   "id": "6821b889",
   "metadata": {},
   "outputs": [],
   "source": []
  },
  {
   "cell_type": "code",
   "execution_count": null,
   "id": "2398dd89",
   "metadata": {},
   "outputs": [],
   "source": []
  },
  {
   "cell_type": "code",
   "execution_count": null,
   "id": "be3ac4c0",
   "metadata": {},
   "outputs": [],
   "source": []
  }
 ],
 "metadata": {
  "kernelspec": {
   "display_name": "Python 3 (ipykernel)",
   "language": "python",
   "name": "python3"
  },
  "language_info": {
   "codemirror_mode": {
    "name": "ipython",
    "version": 3
   },
   "file_extension": ".py",
   "mimetype": "text/x-python",
   "name": "python",
   "nbconvert_exporter": "python",
   "pygments_lexer": "ipython3",
   "version": "3.8.13"
  }
 },
 "nbformat": 4,
 "nbformat_minor": 5
}
